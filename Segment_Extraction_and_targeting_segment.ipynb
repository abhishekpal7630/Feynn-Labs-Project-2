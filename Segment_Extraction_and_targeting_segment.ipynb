{
  "nbformat": 4,
  "nbformat_minor": 0,
  "metadata": {
    "colab": {
      "name": "Segment Extraction and targeting segment.ipynb",
      "provenance": [],
      "collapsed_sections": [],
      "authorship_tag": "ABX9TyOJM55Ae5B8MScxRYXFUGVe",
      "include_colab_link": true
    },
    "kernelspec": {
      "name": "python3",
      "display_name": "Python 3"
    },
    "language_info": {
      "name": "python"
    }
  },
  "cells": [
    {
      "cell_type": "markdown",
      "metadata": {
        "id": "view-in-github",
        "colab_type": "text"
      },
      "source": [
        "<a href=\"https://colab.research.google.com/github/abhishekpal7630/Feynn-Labs-Project-2/blob/main/Segment_Extraction_and_targeting_segment.ipynb\" target=\"_parent\"><img src=\"https://colab.research.google.com/assets/colab-badge.svg\" alt=\"Open In Colab\"/></a>"
      ]
    },
    {
      "cell_type": "code",
      "execution_count": 11,
      "metadata": {
        "colab": {
          "base_uri": "https://localhost:8080/"
        },
        "id": "mtArFzTBvYup",
        "outputId": "e6d39371-c532-4aed-8f48-57ad7c871f22"
      },
      "outputs": [
        {
          "output_type": "stream",
          "name": "stdout",
          "text": [
            "The rpy2.ipython extension is already loaded. To reload it, use:\n",
            "  %reload_ext rpy2.ipython\n"
          ]
        }
      ],
      "source": [
        "%load_ext rpy2.ipython"
      ]
    },
    {
      "cell_type": "code",
      "source": [
        "%%R\n",
        "EV<-read.csv(\"ElectricCarData_Clean.csv\")\n",
        "head(EV,3)"
      ],
      "metadata": {
        "colab": {
          "base_uri": "https://localhost:8080/"
        },
        "id": "9MyBIpWtv5DP",
        "outputId": "fd40ec7b-26e9-457b-a98d-aa272e4f966b"
      },
      "execution_count": 13,
      "outputs": [
        {
          "output_type": "stream",
          "name": "stdout",
          "text": [
            "        Brand                         Model AccelSec TopSpeed_KmH Range_Km\n",
            "1      Tesla  Model 3 Long Range Dual Motor      4.6          233      450\n",
            "2 Volkswagen                      ID.3 Pure     10.0          160      270\n",
            "3   Polestar                              2      4.7          210      400\n",
            "  Efficiency_WhKm FastCharge_KmH RapidCharge PowerTrain   PlugType BodyStyle\n",
            "1             161            940         Yes        AWD Type 2 CCS     Sedan\n",
            "2             167            250         Yes        RWD Type 2 CCS Hatchback\n",
            "3             181            620         Yes        AWD Type 2 CCS  Liftback\n",
            "  Segment Seats PriceEuro\n",
            "1       D     5     55480\n",
            "2       C     5     30000\n",
            "3       D     5     56440\n"
          ]
        }
      ]
    },
    {
      "cell_type": "code",
      "source": [
        "%%R\n",
        "\n",
        "\n",
        "EV[78,7]=0\n",
        "EV[83,7]=0\n",
        "EV[92,7]=0\n",
        "EV[58,7]=0\n",
        "EV[69,7]=0"
      ],
      "metadata": {
        "id": "hYT2V6gR0xje"
      },
      "execution_count": 14,
      "outputs": []
    },
    {
      "cell_type": "code",
      "source": [
        "%%R\n",
        "EV[,7]\n"
      ],
      "metadata": {
        "colab": {
          "base_uri": "https://localhost:8080/"
        },
        "id": "OFozVZhn25V2",
        "outputId": "d66633e4-75a8-4511-c5c3-514f8b04024c"
      },
      "execution_count": 15,
      "outputs": [
        {
          "output_type": "stream",
          "name": "stdout",
          "text": [
            "  [1] \"940\" \"250\" \"620\" \"560\" \"190\" \"620\" \"220\" \"420\" \"650\" \"540\" \"440\" \"230\"\n",
            " [13] \"380\" \"650\" \"210\" \"590\" \"780\" \"170\" \"260\" \"260\" \"420\" \"930\" \"230\" \"850\"\n",
            " [25] \"910\" \"560\" \"490\" \"470\" \"270\" \"380\" \"450\" \"350\" \"230\" \"710\" \"240\" \"390\"\n",
            " [37] \"190\" \"570\" \"230\" \"440\" \"560\" \"210\" \"610\" \"170\" \"170\" \"340\" \"210\" \"730\"\n",
            " [49] \"540\" \"350\" \"590\" \"920\" \"390\" \"560\" \"490\" \"190\" \"380\" \"0\"   \"380\" \"550\"\n",
            " [61] \"230\" \"900\" \"520\" \"340\" \"430\" \"890\" \"190\" \"710\" \"0\"   \"410\" \"260\" \"540\"\n",
            " [73] \"770\" \"460\" \"270\" \"230\" \"550\" \"0\"   \"360\" \"810\" \"470\" \"480\" \"0\"   \"380\"\n",
            " [85] \"290\" \"330\" \"740\" \"470\" \"540\" \"440\" \"510\" \"0\"   \"320\" \"500\" \"330\" \"470\"\n",
            " [97] \"220\" \"420\" \"440\" \"540\" \"440\" \"450\" \"480\"\n"
          ]
        }
      ]
    },
    {
      "cell_type": "code",
      "source": [
        "%%R\n",
        "EV[,8]"
      ],
      "metadata": {
        "colab": {
          "base_uri": "https://localhost:8080/"
        },
        "id": "uCpZkq9PwCmS",
        "outputId": "1fcab840-73ed-42f6-bb2a-d0c0bd358bae"
      },
      "execution_count": 16,
      "outputs": [
        {
          "output_type": "stream",
          "name": "stdout",
          "text": [
            "  [1] \"Yes\" \"Yes\" \"Yes\" \"Yes\" \"Yes\" \"Yes\" \"Yes\" \"Yes\" \"Yes\" \"Yes\" \"Yes\" \"Yes\"\n",
            " [13] \"Yes\" \"Yes\" \"Yes\" \"Yes\" \"Yes\" \"Yes\" \"Yes\" \"Yes\" \"Yes\" \"Yes\" \"Yes\" \"Yes\"\n",
            " [25] \"Yes\" \"Yes\" \"Yes\" \"Yes\" \"Yes\" \"Yes\" \"Yes\" \"Yes\" \"Yes\" \"Yes\" \"Yes\" \"Yes\"\n",
            " [37] \"Yes\" \"Yes\" \"Yes\" \"Yes\" \"Yes\" \"Yes\" \"Yes\" \"Yes\" \"Yes\" \"Yes\" \"Yes\" \"Yes\"\n",
            " [49] \"Yes\" \"Yes\" \"Yes\" \"Yes\" \"Yes\" \"Yes\" \"Yes\" \"Yes\" \"Yes\" \"No\"  \"Yes\" \"Yes\"\n",
            " [61] \"Yes\" \"Yes\" \"Yes\" \"Yes\" \"Yes\" \"Yes\" \"Yes\" \"Yes\" \"No\"  \"Yes\" \"Yes\" \"Yes\"\n",
            " [73] \"Yes\" \"Yes\" \"Yes\" \"Yes\" \"Yes\" \"No\"  \"Yes\" \"Yes\" \"Yes\" \"Yes\" \"No\"  \"Yes\"\n",
            " [85] \"Yes\" \"Yes\" \"Yes\" \"Yes\" \"Yes\" \"Yes\" \"Yes\" \"No\"  \"Yes\" \"Yes\" \"Yes\" \"Yes\"\n",
            " [97] \"Yes\" \"Yes\" \"Yes\" \"Yes\" \"Yes\" \"Yes\" \"Yes\"\n"
          ]
        }
      ]
    },
    {
      "cell_type": "code",
      "source": [
        "%%R\n",
        "EV[,8]<-as.matrix(EV[,8])\n",
        "EV[,8]<-(EV[,8]=='Yes')+0\n",
        "round(colMeans(EV[,8]),2)"
      ],
      "metadata": {
        "colab": {
          "base_uri": "https://localhost:8080/"
        },
        "id": "XZyIFHLDxAKQ",
        "outputId": "1c00a60b-5ffb-44f7-9f43-48c7672857d5"
      },
      "execution_count": 17,
      "outputs": [
        {
          "output_type": "stream",
          "name": "stdout",
          "text": [
            "[1] 0.95\n"
          ]
        }
      ]
    },
    {
      "cell_type": "code",
      "source": [
        "%%R\n",
        "EV[,9]<-as.matrix(EV[,9])\n",
        "EV[,9]<-(EV[,9]=='AWD')+0\n",
        "round(colMeans(EV[,9]),2)"
      ],
      "metadata": {
        "colab": {
          "base_uri": "https://localhost:8080/"
        },
        "id": "pR1SuKF7xcgM",
        "outputId": "63a0398e-2bc0-442d-b1ab-fe4d7639df9c"
      },
      "execution_count": 18,
      "outputs": [
        {
          "output_type": "stream",
          "name": "stdout",
          "text": [
            "[1] 0.4\n"
          ]
        }
      ]
    },
    {
      "cell_type": "code",
      "source": [
        "%%R\n",
        "EV[,10]<-as.matrix(EV[,10])\n",
        "EV[,10]<-(EV[,10]=='Type 2 CCS')+0\n",
        "round(colMeans(EV[,10]),2)"
      ],
      "metadata": {
        "colab": {
          "base_uri": "https://localhost:8080/"
        },
        "id": "Vue4LoWKyFfs",
        "outputId": "ad7b755f-3436-46bb-851c-6272efa12d1d"
      },
      "execution_count": 19,
      "outputs": [
        {
          "output_type": "stream",
          "name": "stdout",
          "text": [
            "[1] 0.87\n"
          ]
        }
      ]
    },
    {
      "cell_type": "code",
      "source": [
        "\n",
        "%%R\n",
        "EV[,11]<-as.matrix(EV[,11])\n",
        "EV[,11]<-(EV[,11]=='Sedan')+0\n",
        "round(colMeans(EV[,11]),2)"
      ],
      "metadata": {
        "colab": {
          "base_uri": "https://localhost:8080/"
        },
        "id": "qDQcKLuKyV5A",
        "outputId": "ede9c4c2-265e-4451-db5d-78a7bec2845d"
      },
      "execution_count": 20,
      "outputs": [
        {
          "output_type": "stream",
          "name": "stdout",
          "text": [
            "[1] 0.1\n"
          ]
        }
      ]
    },
    {
      "cell_type": "code",
      "source": [
        "%%R\n",
        "head(EV,100)"
      ],
      "metadata": {
        "colab": {
          "base_uri": "https://localhost:8080/"
        },
        "id": "dssnMEIVyzSO",
        "outputId": "1a885c57-8064-432d-ec73-e46887160b82"
      },
      "execution_count": 21,
      "outputs": [
        {
          "output_type": "stream",
          "name": "stdout",
          "text": [
            "          Brand                          Model AccelSec TopSpeed_KmH Range_Km\n",
            "1        Tesla   Model 3 Long Range Dual Motor      4.6          233      450\n",
            "2   Volkswagen                       ID.3 Pure     10.0          160      270\n",
            "3     Polestar                               2      4.7          210      400\n",
            "4          BMW                            iX3       6.8          180      360\n",
            "5        Honda                              e       9.5          145      170\n",
            "6        Lucid                            Air       2.8          250      610\n",
            "7   Volkswagen                         e-Golf       9.6          150      190\n",
            "8      Peugeot                          e-208       8.1          150      275\n",
            "9        Tesla     Model 3 Standard Range Plus      5.6          225      310\n",
            "10        Audi                      Q4 e-tron       6.3          180      400\n",
            "11    Mercedes                  EQC 400 4MATIC      5.1          180      370\n",
            "12      Nissan                           Leaf       7.9          144      220\n",
            "13     Hyundai            Kona Electric 64 kWh      7.9          167      400\n",
            "14         BMW                             i4       4.0          200      450\n",
            "15     Hyundai                  IONIQ Electric      9.7          165      250\n",
            "16  Volkswagen                      ID.3 Pro S      7.9          160      440\n",
            "17     Porsche                  Taycan Turbo S      2.8          260      375\n",
            "18  Volkswagen                          e-Up!      11.9          130      195\n",
            "19          MG                           ZS EV      8.2          140      220\n",
            "20        Mini                      Cooper SE       7.3          150      185\n",
            "21        Opel                        Corsa-e       8.1          150      275\n",
            "22       Tesla   Model Y Long Range Dual Motor      5.1          217      425\n",
            "23       Skoda                     Enyaq iV 50     10.0          160      290\n",
            "24        Audi                      e-tron GT       3.5          240      425\n",
            "25       Tesla  Model 3 Long Range Performance      3.4          261      435\n",
            "26  Volkswagen                           ID.4       7.5          160      420\n",
            "27  Volkswagen                        ID.3 Pro      9.0          160      350\n",
            "28       Volvo            XC40 P8 AWD Recharge      4.9          180      375\n",
            "29         BMW                       i3 120 Ah      7.3          150      235\n",
            "30     Peugeot                     e-2008 SUV       8.5          150      250\n",
            "31        Audi               e-tron 50 quattro      6.8          190      280\n",
            "32         Kia                   e-Niro 64 kWh      7.8          167      370\n",
            "33     Renault                   Zoe ZE50 R110     11.4          135      315\n",
            "34       Tesla            Cybertruck Tri Motor      3.0          210      750\n",
            "35       Mazda                          MX-30       9.0          150      180\n",
            "36      Nissan                         Leaf e+      7.3          157      325\n",
            "37       Lexus                         UX 300e      7.5          160      270\n",
            "38       CUPRA                        el-Born       6.5          160      425\n",
            "39     Renault                   Zoe ZE50 R135      9.5          140      310\n",
            "40    Mercedes                            EQA       5.0          200      350\n",
            "41       Tesla              Model S Long Range      3.8          250      515\n",
            "42     Hyundai            Kona Electric 39 kWh      9.9          155      255\n",
            "43        Audi     e-tron Sportback 55 quattro      5.7          200      380\n",
            "44       Skoda                     CITIGOe iV      12.3          130      195\n",
            "45        SEAT                   Mii Electric      12.3          130      195\n",
            "46         Kia                   e-Soul 64 kWh      7.9          167      365\n",
            "47        Opel                       Ampera-e       7.3          150      335\n",
            "48     Porsche                       Taycan 4S      4.0          250      365\n",
            "49   Lightyear                            One      10.0          150      575\n",
            "50      Aiways                             U5       9.0          150      335\n",
            "51        Audi               e-tron 55 quattro      5.7          200      365\n",
            "52       Tesla                       Roadster       2.1          410      970\n",
            "53        Opel                        Mokka-e       8.5          150      255\n",
            "54       Skoda                     Enyaq iV 80      8.8          160      420\n",
            "55       Tesla              Model X Long Range      4.6          250      450\n",
            "56       Honda                       e Advance      8.3          145      170\n",
            "57          DS             3 Crossback E-Tense      8.7          150      250\n",
            "58     Renault                       Twingo ZE     12.6          135      130\n",
            "59     Citroen                           e-C4       9.7          150      250\n",
            "60       Tesla             Model S Performance      2.5          261      505\n",
            "61     Renault                   Zoe ZE40 R110     11.4          135      255\n",
            "62       Tesla  Model Y Long Range Performance      3.7          241      410\n",
            "63      Nissan                     Ariya 87kWh      7.6          160      440\n",
            "64      Jaguar                         I-Pace       4.8          200      365\n",
            "65        Ford           Mustang Mach-E ER RWD      7.0          180      450\n",
            "66     Porsche                  Taycan 4S Plus      4.0          250      425\n",
            "67      Nissan                 e-NV200 Evalia      14.0          123      190\n",
            "68       Tesla           Cybertruck Dual Motor      5.0          190      460\n",
            "69     Renault               Kangoo Maxi ZE 33     22.4          130      160\n",
            "70        Ford           Mustang Mach-E ER AWD      6.0          180      430\n",
            "71         BMW                      i3s 120 Ah      6.9          160      230\n",
            "72       Skoda                    Enyaq iV 80X      7.0          160      400\n",
            "73     Porsche           Taycan Cross Turismo       3.5          250      385\n",
            "74       Byton               M-Byte 95 kWh 4WD      5.5          190      390\n",
            "75        Sono                           Sion       9.0          140      225\n",
            "76         Kia                   e-Niro 39 kWh      9.8          155      235\n",
            "77        Audi            Q4 Sportback e-tron       6.3          180      410\n",
            "78       Smart                     EQ forfour      12.7          130       95\n",
            "79        Ford           Mustang Mach-E SR AWD      6.0          180      340\n",
            "80     Porsche                    Taycan Turbo      3.2          260      390\n",
            "81  Volkswagen                        ID.3 1st      7.3          160      340\n",
            "82       Tesla             Model X Performance      2.8          250      440\n",
            "83       Smart                 EQ fortwo coupe     11.6          130      100\n",
            "84        Ford           Mustang Mach-E SR RWD      6.6          180      360\n",
            "85    Mercedes                    EQV 300 Long     10.0          140      330\n",
            "86        Fiat                  500e Hatchback      9.0          150      250\n",
            "87       Tesla         Cybertruck Single Motor      7.0          180      390\n",
            "88        Audi     e-tron Sportback 50 quattro      6.8          190      295\n",
            "89       Skoda                    Enyaq iV vRS      6.2          180      400\n",
            "90       Skoda                     Enyaq iV 60      9.0          160      320\n",
            "91        Audi             e-tron S 55 quattro      4.5          210      320\n",
            "92       Smart                EQ fortwo cabrio     11.9          130       95\n",
            "93         Kia                   e-Soul 64 kWh      7.9          167      365\n",
            "94      Nissan             Ariya e-4ORCE 87kWh      5.7          200      420\n",
            "95        Fiat                500e Convertible      9.0          150      250\n",
            "96  Volkswagen            ID.3 Pro Performance      7.3          160      340\n",
            "97         Kia                   e-Soul 39 kWh      9.9          157      230\n",
            "98       Byton               M-Byte 72 kWh 2WD      7.5          190      325\n",
            "99      Nissan                     Ariya 63kWh      7.5          160      330\n",
            "100       Audi   e-tron S Sportback 55 quattro      4.5          210      335\n",
            "    Efficiency_WhKm FastCharge_KmH RapidCharge PowerTrain PlugType BodyStyle\n",
            "1               161            940           1          1        1         1\n",
            "2               167            250           1          0        1         0\n",
            "3               181            620           1          1        1         0\n",
            "4               206            560           1          0        1         0\n",
            "5               168            190           1          0        1         0\n",
            "6               180            620           1          1        1         1\n",
            "7               168            220           1          0        1         0\n",
            "8               164            420           1          0        1         0\n",
            "9               153            650           1          0        1         1\n",
            "10              193            540           1          1        1         0\n",
            "11              216            440           1          1        1         0\n",
            "12              164            230           1          0        0         0\n",
            "13              160            380           1          0        1         0\n",
            "14              178            650           1          0        1         1\n",
            "15              153            210           1          0        1         0\n",
            "16              175            590           1          0        1         0\n",
            "17              223            780           1          1        1         1\n",
            "18              166            170           1          0        1         0\n",
            "19              193            260           1          0        1         0\n",
            "20              156            260           1          0        1         0\n",
            "21              164            420           1          0        1         0\n",
            "22              171            930           1          1        1         0\n",
            "23              179            230           1          0        1         0\n",
            "24              197            850           1          1        1         1\n",
            "25              167            910           1          1        1         1\n",
            "26              183            560           1          0        1         0\n",
            "27              166            490           1          0        1         0\n",
            "28              200            470           1          1        1         0\n",
            "29              161            270           1          0        1         0\n",
            "30              180            380           1          0        1         0\n",
            "31              231            450           1          1        1         0\n",
            "32              173            350           1          0        1         0\n",
            "33              165            230           1          0        1         0\n",
            "34              267            710           1          1        1         0\n",
            "35              178            240           1          0        1         0\n",
            "36              172            390           1          0        0         0\n",
            "37              193            190           1          0        0         0\n",
            "38              181            570           1          0        1         0\n",
            "39              168            230           1          0        1         0\n",
            "40              171            440           1          1        1         0\n",
            "41              184            560           1          1        0         0\n",
            "42              154            210           1          0        1         0\n",
            "43              228            610           1          1        1         0\n",
            "44              166            170           1          0        1         0\n",
            "45              166            170           1          0        1         0\n",
            "46              175            340           1          0        1         0\n",
            "47              173            210           1          0        1         0\n",
            "48              195            730           1          1        1         1\n",
            "49              104            540           1          1        1         0\n",
            "50              188            350           1          0        1         0\n",
            "51              237            590           1          1        1         0\n",
            "52              206            920           1          1        1         0\n",
            "53              176            390           1          0        1         0\n",
            "54              183            560           1          0        1         0\n",
            "55              211            490           1          1        0         0\n",
            "56              168            190           1          0        1         0\n",
            "57              180            380           1          0        1         0\n",
            "58              164              0           0          0        0         0\n",
            "59              180            380           1          0        1         0\n",
            "60              188            550           1          1        0         0\n",
            "61              161            230           1          0        1         0\n",
            "62              177            900           1          1        1         0\n",
            "63              198            520           1          0        1         0\n",
            "64              232            340           1          1        1         0\n",
            "65              200            430           1          0        1         0\n",
            "66              197            890           1          1        1         1\n",
            "67              200            190           1          0        0         0\n",
            "68              261            710           1          1        1         0\n",
            "69              194              0           0          0        0         0\n",
            "70              209            410           1          1        1         0\n",
            "71              165            260           1          0        1         0\n",
            "72              193            540           1          1        1         0\n",
            "73              217            770           1          1        1         0\n",
            "74              244            460           1          1        1         0\n",
            "75              156            270           1          0        1         0\n",
            "76              167            230           1          0        1         0\n",
            "77              188            550           1          1        1         0\n",
            "78              176              0           0          0        0         0\n",
            "79              206            360           1          1        1         0\n",
            "80              215            810           1          1        1         1\n",
            "81              171            470           1          0        1         0\n",
            "82              216            480           1          1        0         0\n",
            "83              167              0           0          0        0         0\n",
            "84              194            380           1          0        1         0\n",
            "85              273            290           1          0        1         0\n",
            "86              168            330           1          0        1         0\n",
            "87              256            740           1          0        1         0\n",
            "88              219            470           1          1        1         0\n",
            "89              193            540           1          1        1         0\n",
            "90              181            440           1          0        1         0\n",
            "91              270            510           1          1        1         0\n",
            "92              176              0           0          0        0         0\n",
            "93              175            320           1          0        1         0\n",
            "94              207            500           1          1        1         0\n",
            "95              168            330           1          0        1         0\n",
            "96              171            470           1          0        1         0\n",
            "97              170            220           1          0        1         0\n",
            "98              222            420           1          0        1         0\n",
            "99              191            440           1          0        1         0\n",
            "100             258            540           1          1        1         0\n",
            "    Segment Seats PriceEuro\n",
            "1         D     5     55480\n",
            "2         C     5     30000\n",
            "3         D     5     56440\n",
            "4         D     5     68040\n",
            "5         B     4     32997\n",
            "6         F     5    105000\n",
            "7         C     5     31900\n",
            "8         B     5     29682\n",
            "9         D     5     46380\n",
            "10        D     5     55000\n",
            "11        D     5     69484\n",
            "12        C     5     29234\n",
            "13        B     5     40795\n",
            "14        D     5     65000\n",
            "15        C     5     34459\n",
            "16        C     4     40936\n",
            "17        F     4    180781\n",
            "18        A     4     21421\n",
            "19        B     5     30000\n",
            "20        B     4     31681\n",
            "21        B     5     29146\n",
            "22        D     7     58620\n",
            "23        C     5     35000\n",
            "24        F     4    125000\n",
            "25        D     5     61480\n",
            "26        C     5     45000\n",
            "27        C     5     33000\n",
            "28        C     5     60437\n",
            "29        B     4     38017\n",
            "30        B     5     34361\n",
            "31        E     5     67358\n",
            "32        C     5     38105\n",
            "33        B     5     31184\n",
            "34        N     6     75000\n",
            "35        C     5     32646\n",
            "36        C     5     37237\n",
            "37        C     5     50000\n",
            "38        C     4     45000\n",
            "39        B     5     33133\n",
            "40        C     5     45000\n",
            "41        F     5     79990\n",
            "42        B     5     33971\n",
            "43        E     5     81639\n",
            "44        A     4     24534\n",
            "45        A     4     20129\n",
            "46        B     5     36837\n",
            "47        B     5     41906\n",
            "48        F     4    102945\n",
            "49        F     5    149000\n",
            "50        C     5     36057\n",
            "51        E     5     79445\n",
            "52        S     4    215000\n",
            "53        B     5     35000\n",
            "54        C     5     40000\n",
            "55        F     7     85990\n",
            "56        B     4     35921\n",
            "57        B     5     37422\n",
            "58        A     4     24790\n",
            "59        C     5     40000\n",
            "60        F     5     96990\n",
            "61        B     5     29234\n",
            "62        D     7     65620\n",
            "63        C     5     50000\n",
            "64        E     5     75351\n",
            "65        D     5     54475\n",
            "66        F     4    109302\n",
            "67        N     7     33246\n",
            "68        N     6     55000\n",
            "69        N     5     38000\n",
            "70        D     5     62900\n",
            "71        B     4     41526\n",
            "72        C     5     45000\n",
            "73        F     4    150000\n",
            "74        E     5     64000\n",
            "75        C     5     25500\n",
            "76        C     5     34400\n",
            "77        D     5     57500\n",
            "78        A     4     22030\n",
            "79        D     5     54000\n",
            "80        F     4    148301\n",
            "81        C     5     38987\n",
            "82        F     7    102990\n",
            "83        A     2     21387\n",
            "84        D     5     46900\n",
            "85        N     7     70631\n",
            "86        B     4     34900\n",
            "87        N     6     45000\n",
            "88        E     5     69551\n",
            "89        C     5     47500\n",
            "90        C     5     37500\n",
            "91        E     5     93800\n",
            "92        A     2     24565\n",
            "93        B     5     36837\n",
            "94        C     5     57500\n",
            "95        B     4     37900\n",
            "96        C     5     35575\n",
            "97        B     5     33133\n",
            "98        E     5     53500\n",
            "99        C     5     45000\n",
            "100       E     5     96050\n"
          ]
        }
      ]
    },
    {
      "cell_type": "code",
      "source": [
        "%%R\n",
        "EV[,7]"
      ],
      "metadata": {
        "colab": {
          "base_uri": "https://localhost:8080/"
        },
        "id": "HKf8iQhjz3nC",
        "outputId": "4eef8ab5-9a1b-43b4-d54c-2de4accf36b8"
      },
      "execution_count": 22,
      "outputs": [
        {
          "output_type": "stream",
          "name": "stdout",
          "text": [
            "  [1] \"940\" \"250\" \"620\" \"560\" \"190\" \"620\" \"220\" \"420\" \"650\" \"540\" \"440\" \"230\"\n",
            " [13] \"380\" \"650\" \"210\" \"590\" \"780\" \"170\" \"260\" \"260\" \"420\" \"930\" \"230\" \"850\"\n",
            " [25] \"910\" \"560\" \"490\" \"470\" \"270\" \"380\" \"450\" \"350\" \"230\" \"710\" \"240\" \"390\"\n",
            " [37] \"190\" \"570\" \"230\" \"440\" \"560\" \"210\" \"610\" \"170\" \"170\" \"340\" \"210\" \"730\"\n",
            " [49] \"540\" \"350\" \"590\" \"920\" \"390\" \"560\" \"490\" \"190\" \"380\" \"0\"   \"380\" \"550\"\n",
            " [61] \"230\" \"900\" \"520\" \"340\" \"430\" \"890\" \"190\" \"710\" \"0\"   \"410\" \"260\" \"540\"\n",
            " [73] \"770\" \"460\" \"270\" \"230\" \"550\" \"0\"   \"360\" \"810\" \"470\" \"480\" \"0\"   \"380\"\n",
            " [85] \"290\" \"330\" \"740\" \"470\" \"540\" \"440\" \"510\" \"0\"   \"320\" \"500\" \"330\" \"470\"\n",
            " [97] \"220\" \"420\" \"440\" \"540\" \"440\" \"450\" \"480\"\n"
          ]
        }
      ]
    },
    {
      "cell_type": "code",
      "source": [
        "%%R\n",
        "EV[,7]<-as.numeric(EV[,7])"
      ],
      "metadata": {
        "id": "m9zUH7zV6IQn"
      },
      "execution_count": 23,
      "outputs": []
    },
    {
      "cell_type": "code",
      "source": [
        "%%R\n",
        "EV[is.na(EV)]=0"
      ],
      "metadata": {
        "id": "jmfs8RW86s7C"
      },
      "execution_count": 24,
      "outputs": []
    },
    {
      "cell_type": "code",
      "source": [
        "%%R\n",
        "EV.x<-EV[,3:11]\n",
        "EV.pca<-prcomp(EV.x)\n"
      ],
      "metadata": {
        "id": "HkvkrQ6TzCKd"
      },
      "execution_count": 25,
      "outputs": []
    },
    {
      "cell_type": "code",
      "source": [
        "%%R\n",
        "install.packages(\"flexclust\")"
      ],
      "metadata": {
        "id": "Ul96mup2zaDs"
      },
      "execution_count": null,
      "outputs": []
    },
    {
      "cell_type": "code",
      "source": [
        "%%R\n",
        "library(flexclust)\n",
        "plot(predict(EV.pca),col='grey')\n",
        "projAxes(EV.pca)\n"
      ],
      "metadata": {
        "colab": {
          "base_uri": "https://localhost:8080/",
          "height": 497
        },
        "id": "VjlfVo569UH9",
        "outputId": "a4c7a090-5732-423d-8391-075ddb97d203"
      },
      "execution_count": 26,
      "outputs": [
        {
          "output_type": "display_data",
          "data": {
            "image/png": "[encoded data removed]"
          },
          "metadata": {}
        }
      ]
    },
    {
      "cell_type": "markdown",
      "source": [
        "So from the Principle Component Analysis it can be clearly seen that the entire market depends mainly on the following 3 facotor which are basically the Principle Component.\n",
        "Namely\n",
        "\n",
        "\n",
        "1) FastCharge_KmH\n",
        "\n",
        "2) TopSpeed_KmH\n",
        "\n",
        "\n",
        "3)Range_Km.\n",
        "\n",
        "\n",
        "So the entire EV market  depends mainly on the following 3 factors, hich are relatively quite indpendent of each other.\n",
        " \n",
        "\n",
        "\n"
      ],
      "metadata": {
        "id": "uTY6U77I9yBi"
      }
    },
    {
      "cell_type": "code",
      "source": [
        "%%R\n",
        "EV.x<-EV[,3:11]\n",
        "head(EV.x)"
      ],
      "metadata": {
        "colab": {
          "base_uri": "https://localhost:8080/"
        },
        "id": "XgkVGVYf_MGG",
        "outputId": "895f21e9-c8ef-4414-f483-2799fd370f88"
      },
      "execution_count": 27,
      "outputs": [
        {
          "output_type": "stream",
          "name": "stdout",
          "text": [
            "  AccelSec TopSpeed_KmH Range_Km Efficiency_WhKm FastCharge_KmH RapidCharge\n",
            "1      4.6          233      450             161            940           1\n",
            "2     10.0          160      270             167            250           1\n",
            "3      4.7          210      400             181            620           1\n",
            "4      6.8          180      360             206            560           1\n",
            "5      9.5          145      170             168            190           1\n",
            "6      2.8          250      610             180            620           1\n",
            "  PowerTrain PlugType BodyStyle\n",
            "1          1        1         1\n",
            "2          0        1         0\n",
            "3          1        1         0\n",
            "4          0        1         0\n",
            "5          0        1         0\n",
            "6          1        1         1\n"
          ]
        }
      ]
    },
    {
      "cell_type": "code",
      "source": [
        "%%R\n",
        "library(flexclust)\n",
        "set.seed(1234)\n",
        "EV.b28<-bootFlexclust(EV.x,2:8,nrep=10,nboot=100)\n",
        "plot(EV.b28,xlab=\"number of segments\",ylab=\"adjusted rand index\")\n"
      ],
      "metadata": {
        "colab": {
          "base_uri": "https://localhost:8080/",
          "height": 497
        },
        "id": "Cx7tbnt2_zsD",
        "outputId": "0b66250d-b25e-407b-dd87-c852ef91123f"
      },
      "execution_count": 22,
      "outputs": [
        {
          "output_type": "display_data",
          "data": {
            "image/png": "[encoded data removed]"
          },
          "metadata": {}
        }
      ]
    },
    {
      "cell_type": "markdown",
      "source": [
        "So from the above boxplot we can infer that  the market can viably segmented into 3 segments. Although segment 5 has the highest stability but the fraction of consumers in segment 5 is very small.\n",
        "\n",
        "So 3 segments would be best for EV market in India which would  particularly be stable over time."
      ],
      "metadata": {
        "id": "i8W2o7WHCWBq"
      }
    },
    {
      "cell_type": "code",
      "source": [
        "%%R\n",
        "install.packages(\"purrr\")"
      ],
      "metadata": {
        "id": "vt8jXINBQM7l"
      },
      "execution_count": null,
      "outputs": []
    },
    {
      "cell_type": "code",
      "source": [
        "%%R\n",
        "library(purrr)\n",
        "set.seed(123)\n",
        "\n",
        "# function to compute total within-cluster sum of square \n",
        "#here wss basically represents the function kmeans() function\n",
        "wss <- function(k) {\n",
        "  kmeans(EV.x, k, nstart = 10 )$tot.withinss\n",
        "}\n",
        "\n",
        "# Compute and plot wss for k = 1 to k = 15\n",
        "k.values <- 1:15\n",
        "\n",
        "# extract wss for 2-15 clusters, apply the wss(which is kmeans function) on each element of \n",
        "#dataFrame EV.x\n",
        "wss_values <- map_dbl(k.values, wss)\n",
        "\n",
        "plot(k.values, wss_values,\n",
        "       type=\"b\", pch = 19, frame = FALSE, \n",
        "       xlab=\"Number of clusters K\",\n",
        "       ylab=\"Total within-clusters sum of squares\")"
      ],
      "metadata": {
        "colab": {
          "base_uri": "https://localhost:8080/",
          "height": 497
        },
        "id": "j3iYtkX-PZGG",
        "outputId": "a169958c-152d-4762-e665-d22736debe67"
      },
      "execution_count": 28,
      "outputs": [
        {
          "output_type": "display_data",
          "data": {
            "image/png": "[encoded data removed]"
          },
          "metadata": {}
        }
      ]
    },
    {
      "cell_type": "markdown",
      "source": [
        "From the above kmeans plot also we can see that the Elbow point is some where between 2 and 4.\n",
        "\n",
        "So combining factor cluster analysis from and Kmeans we get that \n",
        "\n",
        "1) The Number of segemnts of EV market is  **3**\n",
        "\n",
        "2) There are *3* principle components in the market which is the mist dominating one namely\n",
        "\n",
        "   -TopSpeed_KmH\n",
        "\n",
        "   -FastCharge_KmH\n",
        "\n",
        "   -Range_Km"
      ],
      "metadata": {
        "id": "Ymk9pGmqQ0u_"
      }
    },
    {
      "cell_type": "code",
      "source": [
        "%%R\n",
        "set.seed(123)\n",
        "final <- kmeans(EV.x[,c('TopSpeed_KmH','Range_Km','FastCharge_KmH')], 3, nstart = 25)\n",
        "print(final)"
      ],
      "metadata": {
        "colab": {
          "base_uri": "https://localhost:8080/"
        },
        "id": "OFhJ93i3Twia",
        "outputId": "9e96deb2-cc82-492b-cc6a-137739647d21"
      },
      "execution_count": 108,
      "outputs": [
        {
          "output_type": "stream",
          "name": "stdout",
          "text": [
            "K-means clustering with 3 clusters of sizes 54, 33, 16\n",
            "\n",
            "Cluster means:\n",
            "  TopSpeed_KmH Range_Km FastCharge_KmH\n",
            "1     181.5000 369.5370       470.7407\n",
            "2     144.0606 218.9394       196.3636\n",
            "3     243.8750 482.1875       803.7500\n",
            "\n",
            "Clustering vector:\n",
            "  [1] 3 2 1 1 2 3 2 1 1 1 1 2 1 3 2 1 3 2 2 2 1 3 2 3 3 1 1 1 2 1 1 1 2 3 2 1 2\n",
            " [38] 1 2 1 1 2 1 2 2 1 2 3 1 1 1 3 1 1 1 2 1 2 1 1 2 3 1 1 1 3 2 3 2 1 2 1 3 1\n",
            " [75] 2 2 1 2 1 3 1 1 2 1 2 2 3 1 1 1 1 2 1 1 2 1 2 1 1 1 1 1 1\n",
            "\n",
            "Within cluster sum of squares by cluster:\n",
            "[1] 640703.3 407001.4 601353.2\n",
            " (between_SS / total_SS =  75.5 %)\n",
            "\n",
            "Available components:\n",
            "\n",
            "[1] \"cluster\"      \"centers\"      \"totss\"        \"withinss\"     \"tot.withinss\"\n",
            "[6] \"betweenss\"    \"size\"         \"iter\"         \"ifault\"      \n"
          ]
        }
      ]
    },
    {
      "cell_type": "code",
      "source": [
        "%%R\n",
        "install.packages(\"factoextra\")"
      ],
      "metadata": {
        "id": "a7ilzf40TmiG"
      },
      "execution_count": null,
      "outputs": []
    },
    {
      "cell_type": "code",
      "source": [
        "%%R\n",
        "boxplot(data.frame(EV$PriceEuro[o]),data.frame(final$cluster[o]))"
      ],
      "metadata": {
        "colab": {
          "base_uri": "https://localhost:8080/",
          "height": 497
        },
        "id": "4mnKBQ2dydwe",
        "outputId": "f4067155-5984-4651-9015-72d7d16ced0c"
      },
      "execution_count": 112,
      "outputs": [
        {
          "output_type": "display_data",
          "data": {
            "image/png": "[encoded data removed]"
          },
          "metadata": {}
        }
      ]
    },
    {
      "cell_type": "markdown",
      "source": [
        "From the clustering of the PCA stated earlier , we find that the median price of car is 40000 to 50000 euros.\n"
      ],
      "metadata": {
        "id": "uTuhcktU23t8"
      }
    },
    {
      "cell_type": "code",
      "source": [
        "%%R\n",
        "boxplot(data.frame(EV$Efficiency_WhKm[o]),data.frame(final$cluster[o]))\n"
      ],
      "metadata": {
        "colab": {
          "base_uri": "https://localhost:8080/",
          "height": 497
        },
        "id": "n0vFelP_2Q0r",
        "outputId": "428936cf-2370-4671-a2e1-261d68e4ee59"
      },
      "execution_count": 113,
      "outputs": [
        {
          "output_type": "display_data",
          "data": {
            "image/png": "[encoded data removed]"
          },
          "metadata": {}
        }
      ]
    },
    {
      "cell_type": "markdown",
      "source": [
        "Based on the PCA clustering we see that the median Efficiency_WhKm is betwen 150 to 200"
      ],
      "metadata": {
        "id": "WePX97GD4RLp"
      }
    },
    {
      "cell_type": "code",
      "source": [
        "%%R\n",
        "boxplot(x=data.frame(EV$AccelSec[o]),y=data.frame(final$cluster[o]))\n"
      ],
      "metadata": {
        "colab": {
          "base_uri": "https://localhost:8080/",
          "height": 497
        },
        "id": "y9bVNz8N4ERS",
        "outputId": "b7c2b015-9f1c-4cf2-89d5-5a0a9598e3f6"
      },
      "execution_count": 91,
      "outputs": [
        {
          "output_type": "display_data",
          "data": {
            "image/png": "[encoded data removed]"
          },
          "metadata": {}
        }
      ]
    },
    {
      "cell_type": "code",
      "source": [
        "%%R\n",
        "pairs(data[,c(4,3)])"
      ],
      "metadata": {
        "colab": {
          "base_uri": "https://localhost:8080/",
          "height": 497
        },
        "id": "dyDHtpeWAyGv",
        "outputId": "86781b02-1451-44ea-dedf-d459a07753c7"
      },
      "execution_count": 148,
      "outputs": [
        {
          "output_type": "display_data",
          "data": {
            "image/png": "[encoded data removed]"
          },
          "metadata": {}
        }
      ]
    },
    {
      "cell_type": "code",
      "source": [
        "%%R\n",
        "set.seed(123)\n",
        "final <- kmeans(EV.x, 3, nstart = 25)\n",
        "print(final)"
      ],
      "metadata": {
        "colab": {
          "base_uri": "https://localhost:8080/"
        },
        "id": "zAXIkEeiWykq",
        "outputId": "934a5f6a-cff5-4d67-d264-6cbad35d82dd"
      },
      "execution_count": 35,
      "outputs": [
        {
          "output_type": "stream",
          "name": "stdout",
          "text": [
            "K-means clustering with 3 clusters of sizes 54, 16, 33\n",
            "\n",
            "Cluster means:\n",
            "   AccelSec TopSpeed_KmH Range_Km Efficiency_WhKm FastCharge_KmH RapidCharge\n",
            "1  6.685185     181.5000 369.5370        194.5370       470.7407   1.0000000\n",
            "2  3.856250     243.8750 482.1875        204.2500       803.7500   1.0000000\n",
            "3 10.275758     144.0606 218.9394        173.0606       196.3636   0.8484848\n",
            "  PowerTrain  PlugType  BodyStyle\n",
            "1      0.500 0.9074074 0.01851852\n",
            "2      0.875 1.0000000 0.56250000\n",
            "3      0.000 0.7575758 0.00000000\n",
            "\n",
            "Clustering vector:\n",
            "  [1] 2 3 1 1 3 2 3 1 1 1 1 3 1 2 3 1 2 3 3 3 1 2 3 2 2 1 1 1 3 1 1 1 3 2 3 1 3\n",
            " [38] 1 3 1 1 3 1 3 3 1 3 2 1 1 1 2 1 1 1 3 1 3 1 1 3 2 1 1 1 2 3 2 3 1 3 1 2 1\n",
            " [75] 3 3 1 3 1 2 1 1 3 1 3 3 2 1 1 1 1 3 1 1 3 1 3 1 1 1 1 1 1\n",
            "\n",
            "Within cluster sum of squares by cluster:\n",
            "[1] 684858.0 618422.2 421650.2\n",
            " (between_SS / total_SS =  74.7 %)\n",
            "\n",
            "Available components:\n",
            "\n",
            "[1] \"cluster\"      \"centers\"      \"totss\"        \"withinss\"     \"tot.withinss\"\n",
            "[6] \"betweenss\"    \"size\"         \"iter\"         \"ifault\"      \n"
          ]
        }
      ]
    },
    {
      "cell_type": "code",
      "source": [
        "%%R\n",
        "library(factoextra)\n",
        "fviz_cluster(final, data = EV.x)"
      ],
      "metadata": {
        "colab": {
          "base_uri": "https://localhost:8080/",
          "height": 497
        },
        "id": "fpQ1gkD5XtID",
        "outputId": "62d0efce-5be5-4c23-9721-dc81a4bb3299"
      },
      "execution_count": 46,
      "outputs": [
        {
          "output_type": "display_data",
          "data": {
            "image/png": "[encoded data removed]"
          },
          "metadata": {}
        }
      ]
    },
    {
      "cell_type": "markdown",
      "source": [
        "We can see that cluster 2 and cluster 3 is largest and covers more than 50 % of the entire EV data ."
      ],
      "metadata": {
        "id": "umsJcfHQlU6r"
      }
    },
    {
      "cell_type": "code",
      "source": [
        "%%R\n",
        "library(flexclust)"
      ],
      "metadata": {
        "id": "plN_sgUsIIJz"
      },
      "execution_count": null,
      "outputs": []
    },
    {
      "cell_type": "code",
      "source": [
        "%%R\n",
        "library(flexclust)\n",
        "set.seed(1234)\n",
        "EV.km28<-stepcclust(EV.x,2:8,nrep=2, verbose=FALSE,)\n",
        "EV.km28"
      ],
      "metadata": {
        "colab": {
          "base_uri": "https://localhost:8080/"
        },
        "id": "chFvMH0bD-J_",
        "outputId": "266a2144-59e5-4e2a-99b1-bf93770e6c80"
      },
      "execution_count": 51,
      "outputs": [
        {
          "output_type": "stream",
          "name": "stdout",
          "text": [
            "stepFlexclust object of family ‘kmeans’ \n",
            "\n",
            "call:\n",
            "stepcclust(EV.x, 2:8, nrep = 2, verbose = FALSE, )\n",
            "\n",
            "  iter converged   distsum\n",
            "1   NA        NA 21760.377\n",
            "2    9      TRUE 15137.884\n",
            "3    3      TRUE 11283.762\n",
            "4    9      TRUE  9541.230\n",
            "5   10      TRUE  8297.773\n",
            "6   14      TRUE  7701.265\n",
            "7   10      TRUE  7033.186\n",
            "8    7      TRUE  6608.073\n"
          ]
        }
      ]
    },
    {
      "cell_type": "code",
      "source": [
        "%%R\n",
        "plot(EV.km28)"
      ],
      "metadata": {
        "colab": {
          "base_uri": "https://localhost:8080/",
          "height": 497
        },
        "id": "nPr8FO1zIl33",
        "outputId": "80ed2a7e-4001-479f-beea-9c8300cde06f"
      },
      "execution_count": 54,
      "outputs": [
        {
          "output_type": "display_data",
          "data": {
            "image/png": "[encoded data removed]"
          },
          "metadata": {}
        }
      ]
    },
    {
      "cell_type": "markdown",
      "source": [
        "Clearly from the Scree plot we can see that the number of segment=3 would be our best choice for segmenting this market\n",
        " "
      ],
      "metadata": {
        "id": "XgOSbBxJhpsw"
      }
    },
    {
      "cell_type": "code",
      "source": [
        "%%R\n",
        "EV.k4<-EV.km28[[\"3\"]]\n",
        "plot(EV.k4)"
      ],
      "metadata": {
        "colab": {
          "base_uri": "https://localhost:8080/",
          "height": 497
        },
        "id": "xkezsvbWC58T",
        "outputId": "1ec9535d-b2e5-4665-e41e-af89e5c76d0c"
      },
      "execution_count": 56,
      "outputs": [
        {
          "output_type": "display_data",
          "data": {
            "image/png": "[encoded data removed]"
          },
          "metadata": {}
        }
      ]
    },
    {
      "cell_type": "code",
      "source": [
        "%%R\n",
        "EV.vclust<-hclust(dist(t(EV.x)))\n",
        "barchart(EV.k4, shade = TRUE,which = rev(EV.vclust$order))"
      ],
      "metadata": {
        "colab": {
          "base_uri": "https://localhost:8080/",
          "height": 497
        },
        "id": "3YeyH1dLiOK9",
        "outputId": "181934c1-76a0-43bf-eed5-bfbad558299d"
      },
      "execution_count": 57,
      "outputs": [
        {
          "output_type": "display_data",
          "data": {
            "image/png": "[encoded data removed]"
          },
          "metadata": {}
        }
      ]
    },
    {
      "cell_type": "markdown",
      "source": [
        "Since we have decided that there should ideally be 3 segments to viably segment the EV market. \n",
        "\n",
        "So the above Segment Profile for the EV market gives important nature of the entire market.\n",
        "\n",
        "Inferences-\n",
        "\n",
        "1) Cluster 2 contains highest percentage of cars.\n",
        "\n",
        "2) The First cluster basically includes cars which have high FastCharge_Kmh and Range_Km. But this cluster is not very effective, because of its small size.\n",
        "\n",
        "3) The second cluster contains EV which have same Efficiency and Top speed. High Fast Charge and Range coverage.\n",
        "\n",
        "4) The third cluster have similar Efficiency, Top speed ,Fast Charge and Range.\n",
        "\n",
        "The marketing managers should target on selling cars coming in cluster 2 and cluster 3.\n",
        "\n"
      ],
      "metadata": {
        "id": "PDLrkdVFiyL0"
      }
    },
    {
      "cell_type": "code",
      "source": [
        "%%R\n",
        "o<-order(final$cluster)\n",
        "data<-data.frame(EV$Model[o],EV$Brand[o],EV$AccelSec[o],EV$Efficiency_WhKm[o],EV$PriceEuro[o],final$cluster[o])\n",
        "head(data,100)"
      ],
      "metadata": {
        "colab": {
          "base_uri": "https://localhost:8080/"
        },
        "id": "qOJ1Mvm9xivZ",
        "outputId": "9f54524c-a9c7-425f-a28f-2194669379dc"
      },
      "execution_count": 123,
      "outputs": [
        {
          "output_type": "stream",
          "name": "stdout",
          "text": [
            "                        EV.Model.o. EV.Brand.o. EV.AccelSec.o.\n",
            "1                                 2   Polestar             4.7\n",
            "2                              iX3         BMW             6.8\n",
            "3                            e-208     Peugeot             8.1\n",
            "4       Model 3 Standard Range Plus      Tesla             5.6\n",
            "5                        Q4 e-tron        Audi             6.3\n",
            "6                    EQC 400 4MATIC   Mercedes             5.1\n",
            "7              Kona Electric 64 kWh    Hyundai             7.9\n",
            "8                        ID.3 Pro S Volkswagen             7.9\n",
            "9                          Corsa-e        Opel             8.1\n",
            "10                            ID.4  Volkswagen             7.5\n",
            "11                         ID.3 Pro Volkswagen             9.0\n",
            "12             XC40 P8 AWD Recharge      Volvo             4.9\n",
            "13                      e-2008 SUV     Peugeot             8.5\n",
            "14                e-tron 50 quattro       Audi             6.8\n",
            "15                    e-Niro 64 kWh        Kia             7.8\n",
            "16                          Leaf e+     Nissan             7.3\n",
            "17                         el-Born       CUPRA             6.5\n",
            "18                             EQA    Mercedes             5.0\n",
            "19               Model S Long Range      Tesla             3.8\n",
            "20      e-tron Sportback 55 quattro       Audi             5.7\n",
            "21                    e-Soul 64 kWh        Kia             7.9\n",
            "22                             One   Lightyear            10.0\n",
            "23                              U5      Aiways             9.0\n",
            "24                e-tron 55 quattro       Audi             5.7\n",
            "25                         Mokka-e        Opel             8.5\n",
            "26                      Enyaq iV 80      Skoda             8.8\n",
            "27               Model X Long Range      Tesla             4.6\n",
            "28              3 Crossback E-Tense         DS             8.7\n",
            "29                            e-C4     Citroen             9.7\n",
            "30              Model S Performance      Tesla             2.5\n",
            "31                      Ariya 87kWh     Nissan             7.6\n",
            "32                          I-Pace      Jaguar             4.8\n",
            "33            Mustang Mach-E ER RWD       Ford             7.0\n",
            "34            Mustang Mach-E ER AWD       Ford             6.0\n",
            "35                     Enyaq iV 80X      Skoda             7.0\n",
            "36                M-Byte 95 kWh 4WD      Byton             5.5\n",
            "37             Q4 Sportback e-tron        Audi             6.3\n",
            "38            Mustang Mach-E SR AWD       Ford             6.0\n",
            "39                         ID.3 1st Volkswagen             7.3\n",
            "40              Model X Performance      Tesla             2.8\n",
            "41            Mustang Mach-E SR RWD       Ford             6.6\n",
            "42      e-tron Sportback 50 quattro       Audi             6.8\n",
            "43                     Enyaq iV vRS      Skoda             6.2\n",
            "44                      Enyaq iV 60      Skoda             9.0\n",
            "45              e-tron S 55 quattro       Audi             4.5\n",
            "46                    e-Soul 64 kWh        Kia             7.9\n",
            "47              Ariya e-4ORCE 87kWh     Nissan             5.7\n",
            "48             ID.3 Pro Performance Volkswagen             7.3\n",
            "49                M-Byte 72 kWh 2WD      Byton             7.5\n",
            "50                      Ariya 63kWh     Nissan             7.5\n",
            "51    e-tron S Sportback 55 quattro       Audi             4.5\n",
            "52              Ariya e-4ORCE 63kWh     Nissan             5.9\n",
            "53  Ariya e-4ORCE 87kWh Performance     Nissan             5.1\n",
            "54                M-Byte 95 kWh 2WD      Byton             7.5\n",
            "55                        ID.3 Pure Volkswagen            10.0\n",
            "56                               e       Honda             9.5\n",
            "57                          e-Golf  Volkswagen             9.6\n",
            "58                            Leaf      Nissan             7.9\n",
            "59                   IONIQ Electric    Hyundai             9.7\n",
            "60                           e-Up!  Volkswagen            11.9\n",
            "61                            ZS EV         MG             8.2\n",
            "62                       Cooper SE        Mini             7.3\n",
            "63                      Enyaq iV 50      Skoda            10.0\n",
            "64                        i3 120 Ah        BMW             7.3\n",
            "65                    Zoe ZE50 R110    Renault            11.4\n",
            "66                           MX-30       Mazda             9.0\n",
            "67                          UX 300e      Lexus             7.5\n",
            "68                    Zoe ZE50 R135    Renault             9.5\n",
            "69             Kona Electric 39 kWh    Hyundai             9.9\n",
            "70                      CITIGOe iV       Skoda            12.3\n",
            "71                    Mii Electric        SEAT            12.3\n",
            "72                        Ampera-e        Opel             7.3\n",
            "73                        e Advance      Honda             8.3\n",
            "74                        Twingo ZE    Renault            12.6\n",
            "75                    Zoe ZE40 R110    Renault            11.4\n",
            "76                  e-NV200 Evalia      Nissan            14.0\n",
            "77                Kangoo Maxi ZE 33    Renault            22.4\n",
            "78                       i3s 120 Ah        BMW             6.9\n",
            "79                            Sion        Sono             9.0\n",
            "80                    e-Niro 39 kWh        Kia             9.8\n",
            "81                      EQ forfour       Smart            12.7\n",
            "82                  EQ fortwo coupe      Smart            11.6\n",
            "83                     EQV 300 Long   Mercedes            10.0\n",
            "84                   500e Hatchback       Fiat             9.0\n",
            "85                 EQ fortwo cabrio      Smart            11.9\n",
            "86                 500e Convertible       Fiat             9.0\n",
            "87                    e-Soul 39 kWh        Kia             9.9\n",
            "88    Model 3 Long Range Dual Motor      Tesla             4.6\n",
            "89                             Air       Lucid             2.8\n",
            "90                              i4         BMW             4.0\n",
            "91                   Taycan Turbo S    Porsche             2.8\n",
            "92    Model Y Long Range Dual Motor      Tesla             5.1\n",
            "93                       e-tron GT        Audi             3.5\n",
            "94   Model 3 Long Range Performance      Tesla             3.4\n",
            "95             Cybertruck Tri Motor      Tesla             3.0\n",
            "96                        Taycan 4S    Porsche             4.0\n",
            "97                        Roadster       Tesla             2.1\n",
            "98   Model Y Long Range Performance      Tesla             3.7\n",
            "99                   Taycan 4S Plus    Porsche             4.0\n",
            "100           Cybertruck Dual Motor      Tesla             5.0\n",
            "    EV.Efficiency_WhKm.o. EV.PriceEuro.o. final.cluster.o.\n",
            "1                     181           56440                1\n",
            "2                     206           68040                1\n",
            "3                     164           29682                1\n",
            "4                     153           46380                1\n",
            "5                     193           55000                1\n",
            "6                     216           69484                1\n",
            "7                     160           40795                1\n",
            "8                     175           40936                1\n",
            "9                     164           29146                1\n",
            "10                    183           45000                1\n",
            "11                    166           33000                1\n",
            "12                    200           60437                1\n",
            "13                    180           34361                1\n",
            "14                    231           67358                1\n",
            "15                    173           38105                1\n",
            "16                    172           37237                1\n",
            "17                    181           45000                1\n",
            "18                    171           45000                1\n",
            "19                    184           79990                1\n",
            "20                    228           81639                1\n",
            "21                    175           36837                1\n",
            "22                    104          149000                1\n",
            "23                    188           36057                1\n",
            "24                    237           79445                1\n",
            "25                    176           35000                1\n",
            "26                    183           40000                1\n",
            "27                    211           85990                1\n",
            "28                    180           37422                1\n",
            "29                    180           40000                1\n",
            "30                    188           96990                1\n",
            "31                    198           50000                1\n",
            "32                    232           75351                1\n",
            "33                    200           54475                1\n",
            "34                    209           62900                1\n",
            "35                    193           45000                1\n",
            "36                    244           64000                1\n",
            "37                    188           57500                1\n",
            "38                    206           54000                1\n",
            "39                    171           38987                1\n",
            "40                    216          102990                1\n",
            "41                    194           46900                1\n",
            "42                    219           69551                1\n",
            "43                    193           47500                1\n",
            "44                    181           37500                1\n",
            "45                    270           93800                1\n",
            "46                    175           36837                1\n",
            "47                    207           57500                1\n",
            "48                    171           35575                1\n",
            "49                    222           53500                1\n",
            "50                    191           45000                1\n",
            "51                    258           96050                1\n",
            "52                    194           50000                1\n",
            "53                    232           65000                1\n",
            "54                    238           62000                1\n",
            "55                    167           30000                2\n",
            "56                    168           32997                2\n",
            "57                    168           31900                2\n",
            "58                    164           29234                2\n",
            "59                    153           34459                2\n",
            "60                    166           21421                2\n",
            "61                    193           30000                2\n",
            "62                    156           31681                2\n",
            "63                    179           35000                2\n",
            "64                    161           38017                2\n",
            "65                    165           31184                2\n",
            "66                    178           32646                2\n",
            "67                    193           50000                2\n",
            "68                    168           33133                2\n",
            "69                    154           33971                2\n",
            "70                    166           24534                2\n",
            "71                    166           20129                2\n",
            "72                    173           41906                2\n",
            "73                    168           35921                2\n",
            "74                    164           24790                2\n",
            "75                    161           29234                2\n",
            "76                    200           33246                2\n",
            "77                    194           38000                2\n",
            "78                    165           41526                2\n",
            "79                    156           25500                2\n",
            "80                    167           34400                2\n",
            "81                    176           22030                2\n",
            "82                    167           21387                2\n",
            "83                    273           70631                2\n",
            "84                    168           34900                2\n",
            "85                    176           24565                2\n",
            "86                    168           37900                2\n",
            "87                    170           33133                2\n",
            "88                    161           55480                3\n",
            "89                    180          105000                3\n",
            "90                    178           65000                3\n",
            "91                    223          180781                3\n",
            "92                    171           58620                3\n",
            "93                    197          125000                3\n",
            "94                    167           61480                3\n",
            "95                    267           75000                3\n",
            "96                    195          102945                3\n",
            "97                    206          215000                3\n",
            "98                    177           65620                3\n",
            "99                    197          109302                3\n",
            "100                   261           55000                3\n"
          ]
        }
      ]
    },
    {
      "cell_type": "markdown",
      "source": [
        "In the above table we can find the cars and brands which fall in any of the 3 clusters.\n",
        "\n",
        "The marketing managers should target those cars, brands,models etc which fall in cluster 2 and cluster 3."
      ],
      "metadata": {
        "id": "o441k-trk_di"
      }
    }
  ]
}